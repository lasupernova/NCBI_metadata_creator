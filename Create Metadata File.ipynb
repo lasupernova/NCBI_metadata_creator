{
 "cells": [
  {
   "cell_type": "code",
   "execution_count": 136,
   "metadata": {},
   "outputs": [],
   "source": [
    "#!pip3 install eutils\n",
    "#!pip3 install pycountry-convert"
   ]
  },
  {
   "cell_type": "code",
   "execution_count": 189,
   "metadata": {},
   "outputs": [],
   "source": [
    "import pandas as pd\n",
    "from eutils import Client\n",
    "from datetime import datetime\n",
    "import os\n",
    "import pycountry_convert as pc\n",
    "import re"
   ]
  },
  {
   "cell_type": "code",
   "execution_count": 96,
   "metadata": {},
   "outputs": [],
   "source": [
    "with open('seq_accession_numbers.txt') as f:\n",
    "    acc_nums = [line.rstrip() for line in f]"
   ]
  },
  {
   "cell_type": "code",
   "execution_count": 98,
   "metadata": {},
   "outputs": [
    {
     "data": {
      "text/plain": [
       "99"
      ]
     },
     "execution_count": 98,
     "metadata": {},
     "output_type": "execute_result"
    }
   ],
   "source": [
    "len(acc_nums)"
   ]
  },
  {
   "cell_type": "code",
   "execution_count": 90,
   "metadata": {},
   "outputs": [],
   "source": [
    "info_dict = {}"
   ]
  },
  {
   "cell_type": "code",
   "execution_count": 87,
   "metadata": {},
   "outputs": [],
   "source": [
    "gene_id = 'NC_003045.1'"
   ]
  },
  {
   "cell_type": "code",
   "execution_count": 91,
   "metadata": {},
   "outputs": [],
   "source": [
    "info_dict[gene_id] = {}"
   ]
  },
  {
   "cell_type": "code",
   "execution_count": 88,
   "metadata": {},
   "outputs": [
    {
     "name": "stderr",
     "output_type": "stream",
     "text": [
      "WARNING:eutils._internal.queryservice:No NCBI API key provided; throttling to 3 requests/second; see https://ncbiinsights.ncbi.nlm.nih.gov/2017/11/02/new-api-keys-for-the-e-utilities/\n"
     ]
    }
   ],
   "source": [
    "ec = Client(api_key=os.environ.get(\"NCBI_API_KEY\", None))"
   ]
  },
  {
   "cell_type": "code",
   "execution_count": 89,
   "metadata": {},
   "outputs": [],
   "source": [
    "egs = ec.efetch(db='nuccore', id=gene_id)"
   ]
  },
  {
   "cell_type": "code",
   "execution_count": 64,
   "metadata": {},
   "outputs": [
    {
     "data": {
      "text/plain": [
       "['__class__',\n",
       " '__delattr__',\n",
       " '__dict__',\n",
       " '__dir__',\n",
       " '__doc__',\n",
       " '__eq__',\n",
       " '__format__',\n",
       " '__ge__',\n",
       " '__getattribute__',\n",
       " '__gt__',\n",
       " '__hash__',\n",
       " '__init__',\n",
       " '__init_subclass__',\n",
       " '__iter__',\n",
       " '__le__',\n",
       " '__lt__',\n",
       " '__module__',\n",
       " '__ne__',\n",
       " '__new__',\n",
       " '__reduce__',\n",
       " '__reduce_ex__',\n",
       " '__repr__',\n",
       " '__setattr__',\n",
       " '__sizeof__',\n",
       " '__str__',\n",
       " '__subclasshook__',\n",
       " '__weakref__',\n",
       " '_root_tag',\n",
       " '_xml_root',\n",
       " 'gbseqs']"
      ]
     },
     "execution_count": 64,
     "metadata": {},
     "output_type": "execute_result"
    }
   ],
   "source": [
    "dir(egs)"
   ]
  },
  {
   "cell_type": "code",
   "execution_count": 65,
   "metadata": {},
   "outputs": [],
   "source": [
    "entry = egs.gbseqs[0]#.acv"
   ]
  },
  {
   "cell_type": "code",
   "execution_count": 66,
   "metadata": {
    "collapsed": true
   },
   "outputs": [
    {
     "data": {
      "text/plain": [
       "['__class__',\n",
       " '__delattr__',\n",
       " '__dict__',\n",
       " '__dir__',\n",
       " '__doc__',\n",
       " '__eq__',\n",
       " '__format__',\n",
       " '__ge__',\n",
       " '__getattribute__',\n",
       " '__gt__',\n",
       " '__hash__',\n",
       " '__init__',\n",
       " '__init_subclass__',\n",
       " '__le__',\n",
       " '__lt__',\n",
       " '__module__',\n",
       " '__ne__',\n",
       " '__new__',\n",
       " '__reduce__',\n",
       " '__reduce_ex__',\n",
       " '__repr__',\n",
       " '__setattr__',\n",
       " '__sizeof__',\n",
       " '__str__',\n",
       " '__subclasshook__',\n",
       " '__weakref__',\n",
       " '_root_tag',\n",
       " '_xml_root',\n",
       " 'acv',\n",
       " 'cds',\n",
       " 'comment',\n",
       " 'created',\n",
       " 'definition',\n",
       " 'exons',\n",
       " 'features',\n",
       " 'gene',\n",
       " 'genes',\n",
       " 'gi',\n",
       " 'length',\n",
       " 'locus',\n",
       " 'moltype',\n",
       " 'organism',\n",
       " 'other_seqids',\n",
       " 'sequence',\n",
       " 'updated']"
      ]
     },
     "execution_count": 66,
     "metadata": {},
     "output_type": "execute_result"
    }
   ],
   "source": [
    "dir(entry)"
   ]
  },
  {
   "cell_type": "code",
   "execution_count": 67,
   "metadata": {
    "collapsed": true
   },
   "outputs": [
    {
     "name": "stdout",
     "output_type": "stream",
     "text": [
      "_root_tag\n",
      "_xml_root\n",
      "acv\n",
      "cds\n",
      "comment\n",
      "created\n",
      "definition\n",
      "exons\n",
      "features\n",
      "gene\n",
      "genes\n",
      "gi\n",
      "length\n",
      "locus\n",
      "moltype\n",
      "organism\n",
      "other_seqids\n",
      "sequence\n",
      "updated\n"
     ]
    }
   ],
   "source": [
    "for attr in dir(entry):\n",
    "    if not attr.startswith('__'):\n",
    "        print(attr)"
   ]
  },
  {
   "cell_type": "markdown",
   "metadata": {},
   "source": [
    "Save info into info dict"
   ]
  },
  {
   "cell_type": "code",
   "execution_count": 139,
   "metadata": {},
   "outputs": [],
   "source": [
    "def country_to_continent(country_name):\n",
    "    country_alpha2 = pc.country_name_to_country_alpha2(country_name)\n",
    "    country_continent_code = pc.country_alpha2_to_continent_code(country_alpha2)\n",
    "    country_continent_name = pc.convert_continent_code_to_continent_name(country_continent_code)\n",
    "    return country_continent_name"
   ]
  },
  {
   "cell_type": "code",
   "execution_count": 141,
   "metadata": {},
   "outputs": [
    {
     "data": {
      "text/plain": [
       "'South America'"
      ]
     },
     "execution_count": 141,
     "metadata": {},
     "output_type": "execute_result"
    }
   ],
   "source": [
    "country_to_continent('Venezuela')"
   ]
  },
  {
   "cell_type": "code",
   "execution_count": 344,
   "metadata": {
    "scrolled": true
   },
   "outputs": [],
   "source": [
    "def fill_info_dict(acc_nums:list):\n",
    "    info_dict = {}\n",
    "    for counter, acc_num in enumerate(acc_nums):  #iterate over accession numbers in acc_nums, retrieve info from db and fill info_dict\n",
    "        gene_id = acc_num\n",
    "        info_dict[gene_id] = {}\n",
    "        \n",
    "        ec = Client(api_key=os.environ.get(\"NCBI_API_KEY\", None))\n",
    "        egs = ec.efetch(db='nuccore', id=gene_id)\n",
    "        entry = egs.gbseqs[0]\n",
    "        try:\n",
    "            entry.acv\n",
    "            info_dict[gene_id]['acv']=entry.acv\n",
    "        except:\n",
    "            info_dict[gene_id]['acv']='No information'\n",
    "\n",
    "        try:\n",
    "            entry.comment\n",
    "            complete_comment=entry.comment\n",
    "            regex = '##Assembly-Data-START## ; (.*) ; ##Assembly-Data-END##' \n",
    "            result = re.search(regex, complete_comment)\n",
    "            comment = result.group(1)\n",
    "            info_dict[gene_id]['comment']=comment\n",
    "        except:\n",
    "            info_dict[gene_id]['comment']=None\n",
    "\n",
    "        try:\n",
    "            entry.created\n",
    "            info_dict[gene_id]['created']=entry.created\n",
    "        except:\n",
    "            info_dict[gene_id]['created']='No information'\n",
    "\n",
    "        try:\n",
    "            #save definition\n",
    "            entry.definition\n",
    "            info_dict[gene_id]['definition']=entry.definition\n",
    "            \n",
    "            #extract strain from definition using regex\n",
    "            complete_string = entry.definition\n",
    "            #note: 'respiratory' and ' isolate' are non-capturing groups, so that the strain-string will be the only (and first) capturing group\n",
    "            result = re.search('Bovine(?: respiratory)? coronavirus (?:isolate )?(.*), complete genome', complete_string)\n",
    "            strain = result.group(1)\n",
    "            if strain.replace(' ','').isalpha():  #isalpha() does not consider \\s --> remove whitespace before\n",
    "                strain = s\n",
    "            else:\n",
    "                pass\n",
    "            info_dict[gene_id]['strain'] = strain\n",
    "        except:\n",
    "            info_dict[gene_id]['definition']='No information'\n",
    "            info_dict[gene_id]['strain']='No information'\n",
    "\n",
    "        try:\n",
    "#            if 'country' not in entry.features.source.qualifiers.keys():\n",
    "#                print(f'No country passed for acc_num: {gene_id}')\n",
    "            for k, v in entry.features.source.qualifiers.items():\n",
    "                if k == 'country':\n",
    "                    if len(re.split(':\\s*', v)) > 1:\n",
    "                        country, division = re.split(':\\s*', v)\n",
    "                        info_dict[gene_id][k] = country\n",
    "                        info_dict[gene_id]['division'] = division\n",
    "                    else:\n",
    "                        info_dict[gene_id][k] = v\n",
    "                else:\n",
    "                    info_dict[gene_id][k] = v\n",
    "        except:\n",
    "            info_dict[gene_id][k]='No additional information'\n",
    "\n",
    "        try:\n",
    "            entry.gene\n",
    "            info_dict[gene_id]['gene']=entry.gene\n",
    "        except:\n",
    "            info_dict[gene_id]['gene']='No information'\n",
    "\n",
    "        try:\n",
    "            entry.gi\n",
    "            info_dict[gene_id]['gi']=entry.gi\n",
    "        except:\n",
    "            info_dict[gene_id]['gi']='No information'\n",
    "\n",
    "        try:\n",
    "            entry.length\n",
    "            info_dict[gene_id]['length']=entry.length\n",
    "        except:\n",
    "            info_dict[gene_id]['length']='No information'\n",
    "\n",
    "        try:\n",
    "            entry.locus\n",
    "            info_dict[gene_id]['locus']=entry.locus\n",
    "        except:\n",
    "            info_dict[gene_id]['locus']='No information'\n",
    "\n",
    "        try:\n",
    "            entry.moltype\n",
    "            info_dict[gene_id]['moltype']=entry.moltype\n",
    "        except:\n",
    "            info_dict[gene_id]['moltype']='No information'\n",
    "\n",
    "        try:\n",
    "            entry.organism\n",
    "            info_dict[gene_id]['organism']=entry.organism\n",
    "        except:\n",
    "            info_dict[gene_id]['organism']='No information'\n",
    "\n",
    "        try:\n",
    "            entry.other_seqids\n",
    "            info_dict[gene_id]['other_seqids']=entry.other_seqids\n",
    "        except:  \n",
    "            info_dict[gene_id]['other_seqids']='None found'\n",
    "\n",
    "        try:\n",
    "            entry.sequence\n",
    "            info_dict[gene_id]['sequence']=entry.sequence\n",
    "        except:  \n",
    "            info_dict[gene_id]['sequence']='No information'\n",
    "\n",
    "        try:\n",
    "            entry.updated\n",
    "            info_dict[gene_id]['updated']=entry.updated\n",
    "        except:  \n",
    "            info_dict[gene_id]['updated']='No information'\n",
    "\n",
    "        if 'updated' in info_dict[gene_id].keys():\n",
    "            date_unformatted = info_dict[gene_id]['updated']\n",
    "            info_dict[gene_id]['date']=datetime.strptime(date_unformatted, '%d-%b-%Y').strftime('%Y-%m-%d')\n",
    "        elif 'created' in info_dict[gene_id].keys():\n",
    "            date_unformatted = info_dict[gene_id]['created']\n",
    "            info_dict[gene_id]['date']=datetime.strptime(date_unformatted, '%d-%b-%Y').strftime('%Y-%m-%d')\n",
    "        else:\n",
    "            info_dict[gene_id]['date']='20XX-XX-XX'  #TO DO: change this to correct form (sth like 2020.XX.XX)\n",
    "            \n",
    "        if 'country' in info_dict[gene_id].keys() and type(info_dict[gene_id]['country'])!=float and info_dict[gene_id]['country']!='No additional information':\n",
    "            country = info_dict[gene_id]['country']\n",
    "            print(country)\n",
    "            info_dict[gene_id]['region'] = country_to_continent(country)\n",
    "        else:\n",
    "            info_dict[gene_id]['region'] = \"No information\"\n",
    "\n",
    "            \n",
    "    return info_dict"
   ]
  },
  {
   "cell_type": "code",
   "execution_count": 151,
   "metadata": {},
   "outputs": [
    {
     "data": {
      "text/plain": [
       "['MW711287.1', 'MN982199.1', 'MN982198.1', 'NC_003045.1', 'LC494178.1']"
      ]
     },
     "execution_count": 151,
     "metadata": {},
     "output_type": "execute_result"
    }
   ],
   "source": [
    "acc_nums[:5]"
   ]
  },
  {
   "cell_type": "code",
   "execution_count": 345,
   "metadata": {
    "scrolled": true
   },
   "outputs": [
    {
     "name": "stderr",
     "output_type": "stream",
     "text": [
      "WARNING:eutils._internal.queryservice:No NCBI API key provided; throttling to 3 requests/second; see https://ncbiinsights.ncbi.nlm.nih.gov/2017/11/02/new-api-keys-for-the-e-utilities/\n",
      "WARNING:eutils._internal.queryservice:No NCBI API key provided; throttling to 3 requests/second; see https://ncbiinsights.ncbi.nlm.nih.gov/2017/11/02/new-api-keys-for-the-e-utilities/\n"
     ]
    },
    {
     "name": "stdout",
     "output_type": "stream",
     "text": [
      "China\n"
     ]
    },
    {
     "name": "stderr",
     "output_type": "stream",
     "text": [
      "WARNING:eutils._internal.queryservice:No NCBI API key provided; throttling to 3 requests/second; see https://ncbiinsights.ncbi.nlm.nih.gov/2017/11/02/new-api-keys-for-the-e-utilities/\n"
     ]
    },
    {
     "name": "stdout",
     "output_type": "stream",
     "text": [
      "China\n"
     ]
    },
    {
     "name": "stderr",
     "output_type": "stream",
     "text": [
      "WARNING:eutils._internal.queryservice:No NCBI API key provided; throttling to 3 requests/second; see https://ncbiinsights.ncbi.nlm.nih.gov/2017/11/02/new-api-keys-for-the-e-utilities/\n"
     ]
    },
    {
     "name": "stdout",
     "output_type": "stream",
     "text": [
      "China\n"
     ]
    },
    {
     "name": "stderr",
     "output_type": "stream",
     "text": [
      "WARNING:eutils._internal.queryservice:No NCBI API key provided; throttling to 3 requests/second; see https://ncbiinsights.ncbi.nlm.nih.gov/2017/11/02/new-api-keys-for-the-e-utilities/\n",
      "WARNING:eutils._internal.queryservice:No NCBI API key provided; throttling to 3 requests/second; see https://ncbiinsights.ncbi.nlm.nih.gov/2017/11/02/new-api-keys-for-the-e-utilities/\n"
     ]
    },
    {
     "name": "stdout",
     "output_type": "stream",
     "text": [
      "Japan\n"
     ]
    },
    {
     "name": "stderr",
     "output_type": "stream",
     "text": [
      "WARNING:eutils._internal.queryservice:No NCBI API key provided; throttling to 3 requests/second; see https://ncbiinsights.ncbi.nlm.nih.gov/2017/11/02/new-api-keys-for-the-e-utilities/\n"
     ]
    },
    {
     "name": "stdout",
     "output_type": "stream",
     "text": [
      "Japan\n"
     ]
    },
    {
     "name": "stderr",
     "output_type": "stream",
     "text": [
      "WARNING:eutils._internal.queryservice:No NCBI API key provided; throttling to 3 requests/second; see https://ncbiinsights.ncbi.nlm.nih.gov/2017/11/02/new-api-keys-for-the-e-utilities/\n"
     ]
    },
    {
     "name": "stdout",
     "output_type": "stream",
     "text": [
      "Japan\n"
     ]
    },
    {
     "name": "stderr",
     "output_type": "stream",
     "text": [
      "WARNING:eutils._internal.queryservice:No NCBI API key provided; throttling to 3 requests/second; see https://ncbiinsights.ncbi.nlm.nih.gov/2017/11/02/new-api-keys-for-the-e-utilities/\n"
     ]
    },
    {
     "name": "stdout",
     "output_type": "stream",
     "text": [
      "Japan\n"
     ]
    },
    {
     "name": "stderr",
     "output_type": "stream",
     "text": [
      "WARNING:eutils._internal.queryservice:No NCBI API key provided; throttling to 3 requests/second; see https://ncbiinsights.ncbi.nlm.nih.gov/2017/11/02/new-api-keys-for-the-e-utilities/\n"
     ]
    },
    {
     "name": "stdout",
     "output_type": "stream",
     "text": [
      "Japan\n"
     ]
    },
    {
     "name": "stderr",
     "output_type": "stream",
     "text": [
      "WARNING:eutils._internal.queryservice:No NCBI API key provided; throttling to 3 requests/second; see https://ncbiinsights.ncbi.nlm.nih.gov/2017/11/02/new-api-keys-for-the-e-utilities/\n"
     ]
    },
    {
     "name": "stdout",
     "output_type": "stream",
     "text": [
      "Japan\n"
     ]
    },
    {
     "name": "stderr",
     "output_type": "stream",
     "text": [
      "WARNING:eutils._internal.queryservice:No NCBI API key provided; throttling to 3 requests/second; see https://ncbiinsights.ncbi.nlm.nih.gov/2017/11/02/new-api-keys-for-the-e-utilities/\n"
     ]
    },
    {
     "name": "stdout",
     "output_type": "stream",
     "text": [
      "Japan\n"
     ]
    },
    {
     "name": "stderr",
     "output_type": "stream",
     "text": [
      "WARNING:eutils._internal.queryservice:No NCBI API key provided; throttling to 3 requests/second; see https://ncbiinsights.ncbi.nlm.nih.gov/2017/11/02/new-api-keys-for-the-e-utilities/\n"
     ]
    },
    {
     "name": "stdout",
     "output_type": "stream",
     "text": [
      "Japan\n"
     ]
    },
    {
     "name": "stderr",
     "output_type": "stream",
     "text": [
      "WARNING:eutils._internal.queryservice:No NCBI API key provided; throttling to 3 requests/second; see https://ncbiinsights.ncbi.nlm.nih.gov/2017/11/02/new-api-keys-for-the-e-utilities/\n"
     ]
    },
    {
     "name": "stdout",
     "output_type": "stream",
     "text": [
      "Japan\n"
     ]
    },
    {
     "name": "stderr",
     "output_type": "stream",
     "text": [
      "WARNING:eutils._internal.queryservice:No NCBI API key provided; throttling to 3 requests/second; see https://ncbiinsights.ncbi.nlm.nih.gov/2017/11/02/new-api-keys-for-the-e-utilities/\n"
     ]
    },
    {
     "name": "stdout",
     "output_type": "stream",
     "text": [
      "Japan\n"
     ]
    },
    {
     "name": "stderr",
     "output_type": "stream",
     "text": [
      "WARNING:eutils._internal.queryservice:No NCBI API key provided; throttling to 3 requests/second; see https://ncbiinsights.ncbi.nlm.nih.gov/2017/11/02/new-api-keys-for-the-e-utilities/\n"
     ]
    },
    {
     "name": "stdout",
     "output_type": "stream",
     "text": [
      "Japan\n"
     ]
    },
    {
     "name": "stderr",
     "output_type": "stream",
     "text": [
      "WARNING:eutils._internal.queryservice:No NCBI API key provided; throttling to 3 requests/second; see https://ncbiinsights.ncbi.nlm.nih.gov/2017/11/02/new-api-keys-for-the-e-utilities/\n"
     ]
    },
    {
     "name": "stdout",
     "output_type": "stream",
     "text": [
      "Japan\n"
     ]
    },
    {
     "name": "stderr",
     "output_type": "stream",
     "text": [
      "WARNING:eutils._internal.queryservice:No NCBI API key provided; throttling to 3 requests/second; see https://ncbiinsights.ncbi.nlm.nih.gov/2017/11/02/new-api-keys-for-the-e-utilities/\n"
     ]
    },
    {
     "name": "stdout",
     "output_type": "stream",
     "text": [
      "Japan\n"
     ]
    },
    {
     "name": "stderr",
     "output_type": "stream",
     "text": [
      "WARNING:eutils._internal.queryservice:No NCBI API key provided; throttling to 3 requests/second; see https://ncbiinsights.ncbi.nlm.nih.gov/2017/11/02/new-api-keys-for-the-e-utilities/\n"
     ]
    },
    {
     "name": "stdout",
     "output_type": "stream",
     "text": [
      "Japan\n"
     ]
    },
    {
     "name": "stderr",
     "output_type": "stream",
     "text": [
      "WARNING:eutils._internal.queryservice:No NCBI API key provided; throttling to 3 requests/second; see https://ncbiinsights.ncbi.nlm.nih.gov/2017/11/02/new-api-keys-for-the-e-utilities/\n"
     ]
    },
    {
     "name": "stdout",
     "output_type": "stream",
     "text": [
      "Japan\n"
     ]
    },
    {
     "name": "stderr",
     "output_type": "stream",
     "text": [
      "WARNING:eutils._internal.queryservice:No NCBI API key provided; throttling to 3 requests/second; see https://ncbiinsights.ncbi.nlm.nih.gov/2017/11/02/new-api-keys-for-the-e-utilities/\n"
     ]
    },
    {
     "name": "stdout",
     "output_type": "stream",
     "text": [
      "Japan\n"
     ]
    },
    {
     "name": "stderr",
     "output_type": "stream",
     "text": [
      "WARNING:eutils._internal.queryservice:No NCBI API key provided; throttling to 3 requests/second; see https://ncbiinsights.ncbi.nlm.nih.gov/2017/11/02/new-api-keys-for-the-e-utilities/\n"
     ]
    },
    {
     "name": "stdout",
     "output_type": "stream",
     "text": [
      "Japan\n"
     ]
    },
    {
     "name": "stderr",
     "output_type": "stream",
     "text": [
      "WARNING:eutils._internal.queryservice:No NCBI API key provided; throttling to 3 requests/second; see https://ncbiinsights.ncbi.nlm.nih.gov/2017/11/02/new-api-keys-for-the-e-utilities/\n"
     ]
    },
    {
     "name": "stdout",
     "output_type": "stream",
     "text": [
      "Japan\n"
     ]
    },
    {
     "name": "stderr",
     "output_type": "stream",
     "text": [
      "WARNING:eutils._internal.queryservice:No NCBI API key provided; throttling to 3 requests/second; see https://ncbiinsights.ncbi.nlm.nih.gov/2017/11/02/new-api-keys-for-the-e-utilities/\n"
     ]
    },
    {
     "name": "stdout",
     "output_type": "stream",
     "text": [
      "Japan\n"
     ]
    },
    {
     "name": "stderr",
     "output_type": "stream",
     "text": [
      "WARNING:eutils._internal.queryservice:No NCBI API key provided; throttling to 3 requests/second; see https://ncbiinsights.ncbi.nlm.nih.gov/2017/11/02/new-api-keys-for-the-e-utilities/\n"
     ]
    },
    {
     "name": "stdout",
     "output_type": "stream",
     "text": [
      "Japan\n"
     ]
    },
    {
     "name": "stderr",
     "output_type": "stream",
     "text": [
      "WARNING:eutils._internal.queryservice:No NCBI API key provided; throttling to 3 requests/second; see https://ncbiinsights.ncbi.nlm.nih.gov/2017/11/02/new-api-keys-for-the-e-utilities/\n"
     ]
    },
    {
     "name": "stdout",
     "output_type": "stream",
     "text": [
      "Japan\n"
     ]
    },
    {
     "name": "stderr",
     "output_type": "stream",
     "text": [
      "WARNING:eutils._internal.queryservice:No NCBI API key provided; throttling to 3 requests/second; see https://ncbiinsights.ncbi.nlm.nih.gov/2017/11/02/new-api-keys-for-the-e-utilities/\n"
     ]
    },
    {
     "name": "stdout",
     "output_type": "stream",
     "text": [
      "Japan\n"
     ]
    },
    {
     "name": "stderr",
     "output_type": "stream",
     "text": [
      "WARNING:eutils._internal.queryservice:No NCBI API key provided; throttling to 3 requests/second; see https://ncbiinsights.ncbi.nlm.nih.gov/2017/11/02/new-api-keys-for-the-e-utilities/\n"
     ]
    },
    {
     "name": "stdout",
     "output_type": "stream",
     "text": [
      "Japan\n"
     ]
    },
    {
     "name": "stderr",
     "output_type": "stream",
     "text": [
      "WARNING:eutils._internal.queryservice:No NCBI API key provided; throttling to 3 requests/second; see https://ncbiinsights.ncbi.nlm.nih.gov/2017/11/02/new-api-keys-for-the-e-utilities/\n"
     ]
    },
    {
     "name": "stdout",
     "output_type": "stream",
     "text": [
      "Japan\n"
     ]
    },
    {
     "name": "stderr",
     "output_type": "stream",
     "text": [
      "WARNING:eutils._internal.queryservice:No NCBI API key provided; throttling to 3 requests/second; see https://ncbiinsights.ncbi.nlm.nih.gov/2017/11/02/new-api-keys-for-the-e-utilities/\n"
     ]
    },
    {
     "name": "stdout",
     "output_type": "stream",
     "text": [
      "Japan\n"
     ]
    },
    {
     "name": "stderr",
     "output_type": "stream",
     "text": [
      "WARNING:eutils._internal.queryservice:No NCBI API key provided; throttling to 3 requests/second; see https://ncbiinsights.ncbi.nlm.nih.gov/2017/11/02/new-api-keys-for-the-e-utilities/\n"
     ]
    },
    {
     "name": "stdout",
     "output_type": "stream",
     "text": [
      "Japan\n"
     ]
    },
    {
     "name": "stderr",
     "output_type": "stream",
     "text": [
      "WARNING:eutils._internal.queryservice:No NCBI API key provided; throttling to 3 requests/second; see https://ncbiinsights.ncbi.nlm.nih.gov/2017/11/02/new-api-keys-for-the-e-utilities/\n"
     ]
    },
    {
     "name": "stdout",
     "output_type": "stream",
     "text": [
      "Japan\n"
     ]
    },
    {
     "name": "stderr",
     "output_type": "stream",
     "text": [
      "WARNING:eutils._internal.queryservice:No NCBI API key provided; throttling to 3 requests/second; see https://ncbiinsights.ncbi.nlm.nih.gov/2017/11/02/new-api-keys-for-the-e-utilities/\n"
     ]
    },
    {
     "name": "stdout",
     "output_type": "stream",
     "text": [
      "Japan\n"
     ]
    },
    {
     "name": "stderr",
     "output_type": "stream",
     "text": [
      "WARNING:eutils._internal.queryservice:No NCBI API key provided; throttling to 3 requests/second; see https://ncbiinsights.ncbi.nlm.nih.gov/2017/11/02/new-api-keys-for-the-e-utilities/\n"
     ]
    },
    {
     "name": "stdout",
     "output_type": "stream",
     "text": [
      "Japan\n"
     ]
    },
    {
     "name": "stderr",
     "output_type": "stream",
     "text": [
      "WARNING:eutils._internal.queryservice:No NCBI API key provided; throttling to 3 requests/second; see https://ncbiinsights.ncbi.nlm.nih.gov/2017/11/02/new-api-keys-for-the-e-utilities/\n"
     ]
    },
    {
     "name": "stdout",
     "output_type": "stream",
     "text": [
      "Japan\n"
     ]
    },
    {
     "name": "stderr",
     "output_type": "stream",
     "text": [
      "WARNING:eutils._internal.queryservice:No NCBI API key provided; throttling to 3 requests/second; see https://ncbiinsights.ncbi.nlm.nih.gov/2017/11/02/new-api-keys-for-the-e-utilities/\n"
     ]
    },
    {
     "name": "stdout",
     "output_type": "stream",
     "text": [
      "Japan\n"
     ]
    },
    {
     "name": "stderr",
     "output_type": "stream",
     "text": [
      "WARNING:eutils._internal.queryservice:No NCBI API key provided; throttling to 3 requests/second; see https://ncbiinsights.ncbi.nlm.nih.gov/2017/11/02/new-api-keys-for-the-e-utilities/\n"
     ]
    },
    {
     "name": "stdout",
     "output_type": "stream",
     "text": [
      "Japan\n"
     ]
    },
    {
     "name": "stderr",
     "output_type": "stream",
     "text": [
      "WARNING:eutils._internal.queryservice:No NCBI API key provided; throttling to 3 requests/second; see https://ncbiinsights.ncbi.nlm.nih.gov/2017/11/02/new-api-keys-for-the-e-utilities/\n"
     ]
    },
    {
     "name": "stdout",
     "output_type": "stream",
     "text": [
      "Japan\n"
     ]
    },
    {
     "name": "stderr",
     "output_type": "stream",
     "text": [
      "WARNING:eutils._internal.queryservice:No NCBI API key provided; throttling to 3 requests/second; see https://ncbiinsights.ncbi.nlm.nih.gov/2017/11/02/new-api-keys-for-the-e-utilities/\n"
     ]
    },
    {
     "name": "stdout",
     "output_type": "stream",
     "text": [
      "Japan\n"
     ]
    },
    {
     "name": "stderr",
     "output_type": "stream",
     "text": [
      "WARNING:eutils._internal.queryservice:No NCBI API key provided; throttling to 3 requests/second; see https://ncbiinsights.ncbi.nlm.nih.gov/2017/11/02/new-api-keys-for-the-e-utilities/\n"
     ]
    },
    {
     "name": "stdout",
     "output_type": "stream",
     "text": [
      "Japan\n"
     ]
    },
    {
     "name": "stderr",
     "output_type": "stream",
     "text": [
      "WARNING:eutils._internal.queryservice:No NCBI API key provided; throttling to 3 requests/second; see https://ncbiinsights.ncbi.nlm.nih.gov/2017/11/02/new-api-keys-for-the-e-utilities/\n"
     ]
    },
    {
     "name": "stdout",
     "output_type": "stream",
     "text": [
      "Japan\n"
     ]
    },
    {
     "name": "stderr",
     "output_type": "stream",
     "text": [
      "WARNING:eutils._internal.queryservice:No NCBI API key provided; throttling to 3 requests/second; see https://ncbiinsights.ncbi.nlm.nih.gov/2017/11/02/new-api-keys-for-the-e-utilities/\n"
     ]
    },
    {
     "name": "stdout",
     "output_type": "stream",
     "text": [
      "Japan\n"
     ]
    },
    {
     "name": "stderr",
     "output_type": "stream",
     "text": [
      "WARNING:eutils._internal.queryservice:No NCBI API key provided; throttling to 3 requests/second; see https://ncbiinsights.ncbi.nlm.nih.gov/2017/11/02/new-api-keys-for-the-e-utilities/\n"
     ]
    },
    {
     "name": "stdout",
     "output_type": "stream",
     "text": [
      "Japan\n"
     ]
    },
    {
     "name": "stderr",
     "output_type": "stream",
     "text": [
      "WARNING:eutils._internal.queryservice:No NCBI API key provided; throttling to 3 requests/second; see https://ncbiinsights.ncbi.nlm.nih.gov/2017/11/02/new-api-keys-for-the-e-utilities/\n"
     ]
    },
    {
     "name": "stdout",
     "output_type": "stream",
     "text": [
      "Japan\n"
     ]
    },
    {
     "name": "stderr",
     "output_type": "stream",
     "text": [
      "WARNING:eutils._internal.queryservice:No NCBI API key provided; throttling to 3 requests/second; see https://ncbiinsights.ncbi.nlm.nih.gov/2017/11/02/new-api-keys-for-the-e-utilities/\n"
     ]
    },
    {
     "name": "stdout",
     "output_type": "stream",
     "text": [
      "Japan\n"
     ]
    },
    {
     "name": "stderr",
     "output_type": "stream",
     "text": [
      "WARNING:eutils._internal.queryservice:No NCBI API key provided; throttling to 3 requests/second; see https://ncbiinsights.ncbi.nlm.nih.gov/2017/11/02/new-api-keys-for-the-e-utilities/\n"
     ]
    },
    {
     "name": "stdout",
     "output_type": "stream",
     "text": [
      "Japan\n"
     ]
    },
    {
     "name": "stderr",
     "output_type": "stream",
     "text": [
      "WARNING:eutils._internal.queryservice:No NCBI API key provided; throttling to 3 requests/second; see https://ncbiinsights.ncbi.nlm.nih.gov/2017/11/02/new-api-keys-for-the-e-utilities/\n"
     ]
    },
    {
     "name": "stdout",
     "output_type": "stream",
     "text": [
      "Japan\n"
     ]
    },
    {
     "name": "stderr",
     "output_type": "stream",
     "text": [
      "WARNING:eutils._internal.queryservice:No NCBI API key provided; throttling to 3 requests/second; see https://ncbiinsights.ncbi.nlm.nih.gov/2017/11/02/new-api-keys-for-the-e-utilities/\n"
     ]
    },
    {
     "name": "stdout",
     "output_type": "stream",
     "text": [
      "Japan\n"
     ]
    },
    {
     "name": "stderr",
     "output_type": "stream",
     "text": [
      "WARNING:eutils._internal.queryservice:No NCBI API key provided; throttling to 3 requests/second; see https://ncbiinsights.ncbi.nlm.nih.gov/2017/11/02/new-api-keys-for-the-e-utilities/\n"
     ]
    },
    {
     "name": "stdout",
     "output_type": "stream",
     "text": [
      "Japan\n"
     ]
    },
    {
     "name": "stderr",
     "output_type": "stream",
     "text": [
      "WARNING:eutils._internal.queryservice:No NCBI API key provided; throttling to 3 requests/second; see https://ncbiinsights.ncbi.nlm.nih.gov/2017/11/02/new-api-keys-for-the-e-utilities/\n"
     ]
    },
    {
     "name": "stdout",
     "output_type": "stream",
     "text": [
      "Japan\n"
     ]
    },
    {
     "name": "stderr",
     "output_type": "stream",
     "text": [
      "WARNING:eutils._internal.queryservice:No NCBI API key provided; throttling to 3 requests/second; see https://ncbiinsights.ncbi.nlm.nih.gov/2017/11/02/new-api-keys-for-the-e-utilities/\n"
     ]
    },
    {
     "name": "stdout",
     "output_type": "stream",
     "text": [
      "Japan\n"
     ]
    },
    {
     "name": "stderr",
     "output_type": "stream",
     "text": [
      "WARNING:eutils._internal.queryservice:No NCBI API key provided; throttling to 3 requests/second; see https://ncbiinsights.ncbi.nlm.nih.gov/2017/11/02/new-api-keys-for-the-e-utilities/\n"
     ]
    },
    {
     "name": "stdout",
     "output_type": "stream",
     "text": [
      "Japan\n"
     ]
    },
    {
     "name": "stderr",
     "output_type": "stream",
     "text": [
      "WARNING:eutils._internal.queryservice:No NCBI API key provided; throttling to 3 requests/second; see https://ncbiinsights.ncbi.nlm.nih.gov/2017/11/02/new-api-keys-for-the-e-utilities/\n"
     ]
    },
    {
     "name": "stdout",
     "output_type": "stream",
     "text": [
      "Japan\n"
     ]
    },
    {
     "name": "stderr",
     "output_type": "stream",
     "text": [
      "WARNING:eutils._internal.queryservice:No NCBI API key provided; throttling to 3 requests/second; see https://ncbiinsights.ncbi.nlm.nih.gov/2017/11/02/new-api-keys-for-the-e-utilities/\n"
     ]
    },
    {
     "name": "stdout",
     "output_type": "stream",
     "text": [
      "Japan\n"
     ]
    },
    {
     "name": "stderr",
     "output_type": "stream",
     "text": [
      "WARNING:eutils._internal.queryservice:No NCBI API key provided; throttling to 3 requests/second; see https://ncbiinsights.ncbi.nlm.nih.gov/2017/11/02/new-api-keys-for-the-e-utilities/\n"
     ]
    },
    {
     "name": "stdout",
     "output_type": "stream",
     "text": [
      "Japan\n"
     ]
    },
    {
     "name": "stderr",
     "output_type": "stream",
     "text": [
      "WARNING:eutils._internal.queryservice:No NCBI API key provided; throttling to 3 requests/second; see https://ncbiinsights.ncbi.nlm.nih.gov/2017/11/02/new-api-keys-for-the-e-utilities/\n"
     ]
    },
    {
     "name": "stdout",
     "output_type": "stream",
     "text": [
      "Japan\n"
     ]
    },
    {
     "name": "stderr",
     "output_type": "stream",
     "text": [
      "WARNING:eutils._internal.queryservice:No NCBI API key provided; throttling to 3 requests/second; see https://ncbiinsights.ncbi.nlm.nih.gov/2017/11/02/new-api-keys-for-the-e-utilities/\n"
     ]
    },
    {
     "name": "stdout",
     "output_type": "stream",
     "text": [
      "Japan\n"
     ]
    },
    {
     "name": "stderr",
     "output_type": "stream",
     "text": [
      "WARNING:eutils._internal.queryservice:No NCBI API key provided; throttling to 3 requests/second; see https://ncbiinsights.ncbi.nlm.nih.gov/2017/11/02/new-api-keys-for-the-e-utilities/\n"
     ]
    },
    {
     "name": "stdout",
     "output_type": "stream",
     "text": [
      "Japan\n"
     ]
    },
    {
     "name": "stderr",
     "output_type": "stream",
     "text": [
      "WARNING:eutils._internal.queryservice:No NCBI API key provided; throttling to 3 requests/second; see https://ncbiinsights.ncbi.nlm.nih.gov/2017/11/02/new-api-keys-for-the-e-utilities/\n"
     ]
    },
    {
     "name": "stdout",
     "output_type": "stream",
     "text": [
      "Japan\n"
     ]
    },
    {
     "name": "stderr",
     "output_type": "stream",
     "text": [
      "WARNING:eutils._internal.queryservice:No NCBI API key provided; throttling to 3 requests/second; see https://ncbiinsights.ncbi.nlm.nih.gov/2017/11/02/new-api-keys-for-the-e-utilities/\n"
     ]
    },
    {
     "name": "stdout",
     "output_type": "stream",
     "text": [
      "Japan\n"
     ]
    },
    {
     "name": "stderr",
     "output_type": "stream",
     "text": [
      "WARNING:eutils._internal.queryservice:No NCBI API key provided; throttling to 3 requests/second; see https://ncbiinsights.ncbi.nlm.nih.gov/2017/11/02/new-api-keys-for-the-e-utilities/\n"
     ]
    },
    {
     "name": "stdout",
     "output_type": "stream",
     "text": [
      "Japan\n"
     ]
    },
    {
     "name": "stderr",
     "output_type": "stream",
     "text": [
      "WARNING:eutils._internal.queryservice:No NCBI API key provided; throttling to 3 requests/second; see https://ncbiinsights.ncbi.nlm.nih.gov/2017/11/02/new-api-keys-for-the-e-utilities/\n"
     ]
    },
    {
     "name": "stdout",
     "output_type": "stream",
     "text": [
      "Japan\n"
     ]
    },
    {
     "name": "stderr",
     "output_type": "stream",
     "text": [
      "WARNING:eutils._internal.queryservice:No NCBI API key provided; throttling to 3 requests/second; see https://ncbiinsights.ncbi.nlm.nih.gov/2017/11/02/new-api-keys-for-the-e-utilities/\n"
     ]
    },
    {
     "name": "stdout",
     "output_type": "stream",
     "text": [
      "Japan\n"
     ]
    },
    {
     "name": "stderr",
     "output_type": "stream",
     "text": [
      "WARNING:eutils._internal.queryservice:No NCBI API key provided; throttling to 3 requests/second; see https://ncbiinsights.ncbi.nlm.nih.gov/2017/11/02/new-api-keys-for-the-e-utilities/\n"
     ]
    },
    {
     "name": "stdout",
     "output_type": "stream",
     "text": [
      "Japan\n"
     ]
    },
    {
     "name": "stderr",
     "output_type": "stream",
     "text": [
      "WARNING:eutils._internal.queryservice:No NCBI API key provided; throttling to 3 requests/second; see https://ncbiinsights.ncbi.nlm.nih.gov/2017/11/02/new-api-keys-for-the-e-utilities/\n"
     ]
    },
    {
     "name": "stdout",
     "output_type": "stream",
     "text": [
      "Japan\n"
     ]
    },
    {
     "name": "stderr",
     "output_type": "stream",
     "text": [
      "WARNING:eutils._internal.queryservice:No NCBI API key provided; throttling to 3 requests/second; see https://ncbiinsights.ncbi.nlm.nih.gov/2017/11/02/new-api-keys-for-the-e-utilities/\n"
     ]
    },
    {
     "name": "stdout",
     "output_type": "stream",
     "text": [
      "Japan\n"
     ]
    },
    {
     "name": "stderr",
     "output_type": "stream",
     "text": [
      "WARNING:eutils._internal.queryservice:No NCBI API key provided; throttling to 3 requests/second; see https://ncbiinsights.ncbi.nlm.nih.gov/2017/11/02/new-api-keys-for-the-e-utilities/\n"
     ]
    },
    {
     "name": "stdout",
     "output_type": "stream",
     "text": [
      "Japan\n"
     ]
    },
    {
     "name": "stderr",
     "output_type": "stream",
     "text": [
      "WARNING:eutils._internal.queryservice:No NCBI API key provided; throttling to 3 requests/second; see https://ncbiinsights.ncbi.nlm.nih.gov/2017/11/02/new-api-keys-for-the-e-utilities/\n"
     ]
    },
    {
     "name": "stdout",
     "output_type": "stream",
     "text": [
      "Japan\n"
     ]
    },
    {
     "name": "stderr",
     "output_type": "stream",
     "text": [
      "WARNING:eutils._internal.queryservice:No NCBI API key provided; throttling to 3 requests/second; see https://ncbiinsights.ncbi.nlm.nih.gov/2017/11/02/new-api-keys-for-the-e-utilities/\n"
     ]
    },
    {
     "name": "stdout",
     "output_type": "stream",
     "text": [
      "Japan\n"
     ]
    },
    {
     "name": "stderr",
     "output_type": "stream",
     "text": [
      "WARNING:eutils._internal.queryservice:No NCBI API key provided; throttling to 3 requests/second; see https://ncbiinsights.ncbi.nlm.nih.gov/2017/11/02/new-api-keys-for-the-e-utilities/\n"
     ]
    },
    {
     "name": "stdout",
     "output_type": "stream",
     "text": [
      "Japan\n"
     ]
    },
    {
     "name": "stderr",
     "output_type": "stream",
     "text": [
      "WARNING:eutils._internal.queryservice:No NCBI API key provided; throttling to 3 requests/second; see https://ncbiinsights.ncbi.nlm.nih.gov/2017/11/02/new-api-keys-for-the-e-utilities/\n"
     ]
    },
    {
     "name": "stdout",
     "output_type": "stream",
     "text": [
      "Japan\n"
     ]
    },
    {
     "name": "stderr",
     "output_type": "stream",
     "text": [
      "WARNING:eutils._internal.queryservice:No NCBI API key provided; throttling to 3 requests/second; see https://ncbiinsights.ncbi.nlm.nih.gov/2017/11/02/new-api-keys-for-the-e-utilities/\n"
     ]
    },
    {
     "name": "stdout",
     "output_type": "stream",
     "text": [
      "Japan\n"
     ]
    },
    {
     "name": "stderr",
     "output_type": "stream",
     "text": [
      "WARNING:eutils._internal.queryservice:No NCBI API key provided; throttling to 3 requests/second; see https://ncbiinsights.ncbi.nlm.nih.gov/2017/11/02/new-api-keys-for-the-e-utilities/\n"
     ]
    },
    {
     "name": "stdout",
     "output_type": "stream",
     "text": [
      "France\n"
     ]
    },
    {
     "name": "stderr",
     "output_type": "stream",
     "text": [
      "WARNING:eutils._internal.queryservice:No NCBI API key provided; throttling to 3 requests/second; see https://ncbiinsights.ncbi.nlm.nih.gov/2017/11/02/new-api-keys-for-the-e-utilities/\n"
     ]
    },
    {
     "name": "stdout",
     "output_type": "stream",
     "text": [
      "France\n"
     ]
    },
    {
     "name": "stderr",
     "output_type": "stream",
     "text": [
      "WARNING:eutils._internal.queryservice:No NCBI API key provided; throttling to 3 requests/second; see https://ncbiinsights.ncbi.nlm.nih.gov/2017/11/02/new-api-keys-for-the-e-utilities/\n"
     ]
    },
    {
     "name": "stdout",
     "output_type": "stream",
     "text": [
      "France\n"
     ]
    },
    {
     "name": "stderr",
     "output_type": "stream",
     "text": [
      "WARNING:eutils._internal.queryservice:No NCBI API key provided; throttling to 3 requests/second; see https://ncbiinsights.ncbi.nlm.nih.gov/2017/11/02/new-api-keys-for-the-e-utilities/\n"
     ]
    },
    {
     "name": "stdout",
     "output_type": "stream",
     "text": [
      "France\n"
     ]
    },
    {
     "name": "stderr",
     "output_type": "stream",
     "text": [
      "WARNING:eutils._internal.queryservice:No NCBI API key provided; throttling to 3 requests/second; see https://ncbiinsights.ncbi.nlm.nih.gov/2017/11/02/new-api-keys-for-the-e-utilities/\n"
     ]
    },
    {
     "name": "stdout",
     "output_type": "stream",
     "text": [
      "France\n"
     ]
    },
    {
     "name": "stderr",
     "output_type": "stream",
     "text": [
      "WARNING:eutils._internal.queryservice:No NCBI API key provided; throttling to 3 requests/second; see https://ncbiinsights.ncbi.nlm.nih.gov/2017/11/02/new-api-keys-for-the-e-utilities/\n"
     ]
    },
    {
     "name": "stdout",
     "output_type": "stream",
     "text": [
      "USA\n"
     ]
    },
    {
     "name": "stderr",
     "output_type": "stream",
     "text": [
      "WARNING:eutils._internal.queryservice:No NCBI API key provided; throttling to 3 requests/second; see https://ncbiinsights.ncbi.nlm.nih.gov/2017/11/02/new-api-keys-for-the-e-utilities/\n"
     ]
    },
    {
     "name": "stdout",
     "output_type": "stream",
     "text": [
      "USA\n"
     ]
    },
    {
     "name": "stderr",
     "output_type": "stream",
     "text": [
      "WARNING:eutils._internal.queryservice:No NCBI API key provided; throttling to 3 requests/second; see https://ncbiinsights.ncbi.nlm.nih.gov/2017/11/02/new-api-keys-for-the-e-utilities/\n"
     ]
    },
    {
     "name": "stdout",
     "output_type": "stream",
     "text": [
      "USA\n"
     ]
    },
    {
     "name": "stderr",
     "output_type": "stream",
     "text": [
      "WARNING:eutils._internal.queryservice:No NCBI API key provided; throttling to 3 requests/second; see https://ncbiinsights.ncbi.nlm.nih.gov/2017/11/02/new-api-keys-for-the-e-utilities/\n"
     ]
    },
    {
     "name": "stdout",
     "output_type": "stream",
     "text": [
      "USA\n"
     ]
    },
    {
     "name": "stderr",
     "output_type": "stream",
     "text": [
      "WARNING:eutils._internal.queryservice:No NCBI API key provided; throttling to 3 requests/second; see https://ncbiinsights.ncbi.nlm.nih.gov/2017/11/02/new-api-keys-for-the-e-utilities/\n"
     ]
    },
    {
     "name": "stdout",
     "output_type": "stream",
     "text": [
      "France\n"
     ]
    },
    {
     "name": "stderr",
     "output_type": "stream",
     "text": [
      "WARNING:eutils._internal.queryservice:No NCBI API key provided; throttling to 3 requests/second; see https://ncbiinsights.ncbi.nlm.nih.gov/2017/11/02/new-api-keys-for-the-e-utilities/\n"
     ]
    },
    {
     "name": "stdout",
     "output_type": "stream",
     "text": [
      "USA\n"
     ]
    },
    {
     "name": "stderr",
     "output_type": "stream",
     "text": [
      "WARNING:eutils._internal.queryservice:No NCBI API key provided; throttling to 3 requests/second; see https://ncbiinsights.ncbi.nlm.nih.gov/2017/11/02/new-api-keys-for-the-e-utilities/\n"
     ]
    },
    {
     "name": "stdout",
     "output_type": "stream",
     "text": [
      "USA\n"
     ]
    },
    {
     "name": "stderr",
     "output_type": "stream",
     "text": [
      "WARNING:eutils._internal.queryservice:No NCBI API key provided; throttling to 3 requests/second; see https://ncbiinsights.ncbi.nlm.nih.gov/2017/11/02/new-api-keys-for-the-e-utilities/\n"
     ]
    },
    {
     "name": "stdout",
     "output_type": "stream",
     "text": [
      "USA\n"
     ]
    },
    {
     "name": "stderr",
     "output_type": "stream",
     "text": [
      "WARNING:eutils._internal.queryservice:No NCBI API key provided; throttling to 3 requests/second; see https://ncbiinsights.ncbi.nlm.nih.gov/2017/11/02/new-api-keys-for-the-e-utilities/\n"
     ]
    },
    {
     "name": "stdout",
     "output_type": "stream",
     "text": [
      "USA\n"
     ]
    },
    {
     "name": "stderr",
     "output_type": "stream",
     "text": [
      "WARNING:eutils._internal.queryservice:No NCBI API key provided; throttling to 3 requests/second; see https://ncbiinsights.ncbi.nlm.nih.gov/2017/11/02/new-api-keys-for-the-e-utilities/\n"
     ]
    },
    {
     "name": "stdout",
     "output_type": "stream",
     "text": [
      "USA\n"
     ]
    },
    {
     "name": "stderr",
     "output_type": "stream",
     "text": [
      "WARNING:eutils._internal.queryservice:No NCBI API key provided; throttling to 3 requests/second; see https://ncbiinsights.ncbi.nlm.nih.gov/2017/11/02/new-api-keys-for-the-e-utilities/\n"
     ]
    },
    {
     "name": "stdout",
     "output_type": "stream",
     "text": [
      "USA\n"
     ]
    },
    {
     "name": "stderr",
     "output_type": "stream",
     "text": [
      "WARNING:eutils._internal.queryservice:No NCBI API key provided; throttling to 3 requests/second; see https://ncbiinsights.ncbi.nlm.nih.gov/2017/11/02/new-api-keys-for-the-e-utilities/\n"
     ]
    },
    {
     "name": "stdout",
     "output_type": "stream",
     "text": [
      "China\n"
     ]
    },
    {
     "name": "stderr",
     "output_type": "stream",
     "text": [
      "WARNING:eutils._internal.queryservice:No NCBI API key provided; throttling to 3 requests/second; see https://ncbiinsights.ncbi.nlm.nih.gov/2017/11/02/new-api-keys-for-the-e-utilities/\n",
      "WARNING:eutils._internal.queryservice:No NCBI API key provided; throttling to 3 requests/second; see https://ncbiinsights.ncbi.nlm.nih.gov/2017/11/02/new-api-keys-for-the-e-utilities/\n",
      "WARNING:eutils._internal.queryservice:No NCBI API key provided; throttling to 3 requests/second; see https://ncbiinsights.ncbi.nlm.nih.gov/2017/11/02/new-api-keys-for-the-e-utilities/\n",
      "WARNING:eutils._internal.queryservice:No NCBI API key provided; throttling to 3 requests/second; see https://ncbiinsights.ncbi.nlm.nih.gov/2017/11/02/new-api-keys-for-the-e-utilities/\n",
      "WARNING:eutils._internal.queryservice:No NCBI API key provided; throttling to 3 requests/second; see https://ncbiinsights.ncbi.nlm.nih.gov/2017/11/02/new-api-keys-for-the-e-utilities/\n"
     ]
    },
    {
     "name": "stdout",
     "output_type": "stream",
     "text": [
      "USA\n"
     ]
    },
    {
     "name": "stderr",
     "output_type": "stream",
     "text": [
      "WARNING:eutils._internal.queryservice:No NCBI API key provided; throttling to 3 requests/second; see https://ncbiinsights.ncbi.nlm.nih.gov/2017/11/02/new-api-keys-for-the-e-utilities/\n"
     ]
    },
    {
     "name": "stdout",
     "output_type": "stream",
     "text": [
      "USA\n"
     ]
    },
    {
     "name": "stderr",
     "output_type": "stream",
     "text": [
      "WARNING:eutils._internal.queryservice:No NCBI API key provided; throttling to 3 requests/second; see https://ncbiinsights.ncbi.nlm.nih.gov/2017/11/02/new-api-keys-for-the-e-utilities/\n"
     ]
    },
    {
     "name": "stdout",
     "output_type": "stream",
     "text": [
      "USA\n"
     ]
    },
    {
     "name": "stderr",
     "output_type": "stream",
     "text": [
      "WARNING:eutils._internal.queryservice:No NCBI API key provided; throttling to 3 requests/second; see https://ncbiinsights.ncbi.nlm.nih.gov/2017/11/02/new-api-keys-for-the-e-utilities/\n"
     ]
    },
    {
     "name": "stdout",
     "output_type": "stream",
     "text": [
      "USA\n"
     ]
    },
    {
     "name": "stderr",
     "output_type": "stream",
     "text": [
      "WARNING:eutils._internal.queryservice:No NCBI API key provided; throttling to 3 requests/second; see https://ncbiinsights.ncbi.nlm.nih.gov/2017/11/02/new-api-keys-for-the-e-utilities/\n",
      "WARNING:eutils._internal.queryservice:No NCBI API key provided; throttling to 3 requests/second; see https://ncbiinsights.ncbi.nlm.nih.gov/2017/11/02/new-api-keys-for-the-e-utilities/\n"
     ]
    },
    {
     "name": "stdout",
     "output_type": "stream",
     "text": [
      "Japan\n",
      "USA\n"
     ]
    }
   ],
   "source": [
    "info_dict = fill_info_dict(acc_nums)"
   ]
  },
  {
   "cell_type": "code",
   "execution_count": 114,
   "metadata": {},
   "outputs": [],
   "source": [
    "info_dict;"
   ]
  },
  {
   "cell_type": "code",
   "execution_count": 201,
   "metadata": {},
   "outputs": [],
   "source": [
    "info_dict['DQ811784.2'];"
   ]
  },
  {
   "cell_type": "markdown",
   "metadata": {},
   "source": [
    "### make df from dict"
   ]
  },
  {
   "cell_type": "code",
   "execution_count": 346,
   "metadata": {},
   "outputs": [],
   "source": [
    "info_df = pd.DataFrame(info_dict).T"
   ]
  },
  {
   "cell_type": "code",
   "execution_count": 347,
   "metadata": {},
   "outputs": [],
   "source": [
    "info_df['organism'] = 'BCoV'"
   ]
  },
  {
   "cell_type": "code",
   "execution_count": 348,
   "metadata": {},
   "outputs": [],
   "source": [
    "info_df.rename(columns={\"acv\": \"accession\"}, inplace=True)"
   ]
  },
  {
   "cell_type": "code",
   "execution_count": 349,
   "metadata": {},
   "outputs": [
    {
     "data": {
      "text/plain": [
       "Index(['accession', 'comment', 'created', 'definition', 'strain', 'organism',\n",
       "       'mol_type', 'isolate', 'isolation_source', 'db_xref', 'country',\n",
       "       'collection_date', 'collected_by', 'gene', 'gi', 'length', 'locus',\n",
       "       'moltype', 'other_seqids', 'sequence', 'updated', 'date', 'region',\n",
       "       'host', 'division', 'note', 'serotype'],\n",
       "      dtype='object')"
      ]
     },
     "execution_count": 349,
     "metadata": {},
     "output_type": "execute_result"
    }
   ],
   "source": [
    "info_df.columns"
   ]
  },
  {
   "cell_type": "code",
   "execution_count": 392,
   "metadata": {},
   "outputs": [
    {
     "data": {
      "text/plain": [
       "Bovine    1\n",
       "Name: serotype, dtype: int64"
      ]
     },
     "execution_count": 392,
     "metadata": {},
     "output_type": "execute_result"
    }
   ],
   "source": [
    "info_df.serotype.value_counts()"
   ]
  },
  {
   "cell_type": "code",
   "execution_count": 383,
   "metadata": {},
   "outputs": [
    {
     "data": {
      "text/html": [
       "<div>\n",
       "<style scoped>\n",
       "    .dataframe tbody tr th:only-of-type {\n",
       "        vertical-align: middle;\n",
       "    }\n",
       "\n",
       "    .dataframe tbody tr th {\n",
       "        vertical-align: top;\n",
       "    }\n",
       "\n",
       "    .dataframe thead th {\n",
       "        text-align: right;\n",
       "    }\n",
       "</style>\n",
       "<table border=\"1\" class=\"dataframe\">\n",
       "  <thead>\n",
       "    <tr style=\"text-align: right;\">\n",
       "      <th></th>\n",
       "      <th>locus</th>\n",
       "      <th>accession</th>\n",
       "    </tr>\n",
       "  </thead>\n",
       "  <tbody>\n",
       "    <tr>\n",
       "      <th>MW711287.1</th>\n",
       "      <td>MW711287</td>\n",
       "      <td>MW711287.1</td>\n",
       "    </tr>\n",
       "    <tr>\n",
       "      <th>MN982199.1</th>\n",
       "      <td>MN982199</td>\n",
       "      <td>MN982199.1</td>\n",
       "    </tr>\n",
       "    <tr>\n",
       "      <th>MN982198.1</th>\n",
       "      <td>MN982198</td>\n",
       "      <td>MN982198.1</td>\n",
       "    </tr>\n",
       "    <tr>\n",
       "      <th>NC_003045.1</th>\n",
       "      <td>NC_003045</td>\n",
       "      <td>NC_003045.1</td>\n",
       "    </tr>\n",
       "    <tr>\n",
       "      <th>LC494178.1</th>\n",
       "      <td>LC494178</td>\n",
       "      <td>LC494178.1</td>\n",
       "    </tr>\n",
       "    <tr>\n",
       "      <th>...</th>\n",
       "      <td>...</td>\n",
       "      <td>...</td>\n",
       "    </tr>\n",
       "    <tr>\n",
       "      <th>FJ938064.1</th>\n",
       "      <td>FJ938064</td>\n",
       "      <td>FJ938064.1</td>\n",
       "    </tr>\n",
       "    <tr>\n",
       "      <th>FJ938063.1</th>\n",
       "      <td>FJ938063</td>\n",
       "      <td>FJ938063.1</td>\n",
       "    </tr>\n",
       "    <tr>\n",
       "      <th>U00735.2</th>\n",
       "      <td>BCU00735</td>\n",
       "      <td>U00735.2</td>\n",
       "    </tr>\n",
       "    <tr>\n",
       "      <th>AB354579.1</th>\n",
       "      <td>AB354579</td>\n",
       "      <td>AB354579.1</td>\n",
       "    </tr>\n",
       "    <tr>\n",
       "      <th>DQ915164.2</th>\n",
       "      <td>DQ915164</td>\n",
       "      <td>DQ915164.2</td>\n",
       "    </tr>\n",
       "  </tbody>\n",
       "</table>\n",
       "<p>99 rows × 2 columns</p>\n",
       "</div>"
      ],
      "text/plain": [
       "                 locus    accession\n",
       "MW711287.1    MW711287   MW711287.1\n",
       "MN982199.1    MN982199   MN982199.1\n",
       "MN982198.1    MN982198   MN982198.1\n",
       "NC_003045.1  NC_003045  NC_003045.1\n",
       "LC494178.1    LC494178   LC494178.1\n",
       "...                ...          ...\n",
       "FJ938064.1    FJ938064   FJ938064.1\n",
       "FJ938063.1    FJ938063   FJ938063.1\n",
       "U00735.2      BCU00735     U00735.2\n",
       "AB354579.1    AB354579   AB354579.1\n",
       "DQ915164.2    DQ915164   DQ915164.2\n",
       "\n",
       "[99 rows x 2 columns]"
      ]
     },
     "execution_count": 383,
     "metadata": {},
     "output_type": "execute_result"
    }
   ],
   "source": [
    "info_df[['locus', 'accession']]"
   ]
  },
  {
   "cell_type": "markdown",
   "metadata": {},
   "source": [
    " - definition: redundant as strain information was extracted and organism information are all BCoV and were filled in as such in column 'organism'<br>\n",
    " - isolate: redundant as incomplete and when filled in it has the same information as 'strain' (whose information was extracted from 'definition')<br>\n",
    " - gene: redundant, as all None or 'No information'<br>\n",
    " - locus: redundant as it is the accession number without the version number (e.g locus=DQ915164; accession=DQ915164.2)<br>\n",
    " - moltype: redundant - as mol_type, only less information ('RNA' vs. 'genomic RNA')<br>\n",
    " - sequence: tmi - saved in txt file not used for metadata"
   ]
  },
  {
   "cell_type": "code",
   "execution_count": 351,
   "metadata": {},
   "outputs": [
    {
     "data": {
      "text/plain": [
       "Index(['accession', 'comment', 'created', 'definition', 'strain', 'organism',\n",
       "       'mol_type', 'isolate', 'isolation_source', 'db_xref', 'country',\n",
       "       'collection_date', 'collected_by', 'gene', 'gi', 'length', 'locus',\n",
       "       'moltype', 'other_seqids', 'sequence', 'updated', 'date', 'region',\n",
       "       'host', 'division', 'note', 'serotype'],\n",
       "      dtype='object')"
      ]
     },
     "execution_count": 351,
     "metadata": {},
     "output_type": "execute_result"
    }
   ],
   "source": [
    "info_df.columns"
   ]
  },
  {
   "cell_type": "markdown",
   "metadata": {},
   "source": [
    "### select columns for NextStrain"
   ]
  },
  {
   "cell_type": "code",
   "execution_count": 396,
   "metadata": {},
   "outputs": [],
   "source": [
    "df_meta = info_df[['accession', 'comment', 'created', 'strain', 'organism',\n",
    "       'mol_type', 'isolation_source', 'db_xref', 'country',\n",
    "       'collection_date', 'collected_by', 'gi', 'length', \n",
    "       'other_seqids', 'updated', 'date', 'region',\n",
    "       'host', 'division', 'note', 'serotype']]"
   ]
  },
  {
   "cell_type": "code",
   "execution_count": 398,
   "metadata": {},
   "outputs": [],
   "source": [
    "df_meta.to_csv('metadata_unsorted.csv', index=False)"
   ]
  },
  {
   "cell_type": "markdown",
   "metadata": {},
   "source": [
    "### sort columns by number of NaN values in columns"
   ]
  },
  {
   "cell_type": "code",
   "execution_count": 407,
   "metadata": {},
   "outputs": [],
   "source": [
    "import numpy as np"
   ]
  },
  {
   "cell_type": "code",
   "execution_count": 408,
   "metadata": {},
   "outputs": [],
   "source": [
    "df = df_meta[df_meta.replace(['None', 'No information', 'No additional information'],[np.nan,np.nan,np.nan]).isna().sum().sort_values().keys()]"
   ]
  },
  {
   "cell_type": "code",
   "execution_count": 409,
   "metadata": {},
   "outputs": [
    {
     "data": {
      "text/html": [
       "<div>\n",
       "<style scoped>\n",
       "    .dataframe tbody tr th:only-of-type {\n",
       "        vertical-align: middle;\n",
       "    }\n",
       "\n",
       "    .dataframe tbody tr th {\n",
       "        vertical-align: top;\n",
       "    }\n",
       "\n",
       "    .dataframe thead th {\n",
       "        text-align: right;\n",
       "    }\n",
       "</style>\n",
       "<table border=\"1\" class=\"dataframe\">\n",
       "  <thead>\n",
       "    <tr style=\"text-align: right;\">\n",
       "      <th></th>\n",
       "      <th>accession</th>\n",
       "      <th>created</th>\n",
       "      <th>strain</th>\n",
       "      <th>organism</th>\n",
       "      <th>mol_type</th>\n",
       "      <th>date</th>\n",
       "      <th>db_xref</th>\n",
       "      <th>updated</th>\n",
       "      <th>other_seqids</th>\n",
       "      <th>gi</th>\n",
       "      <th>...</th>\n",
       "      <th>region</th>\n",
       "      <th>country</th>\n",
       "      <th>collection_date</th>\n",
       "      <th>host</th>\n",
       "      <th>division</th>\n",
       "      <th>comment</th>\n",
       "      <th>isolation_source</th>\n",
       "      <th>note</th>\n",
       "      <th>collected_by</th>\n",
       "      <th>serotype</th>\n",
       "    </tr>\n",
       "  </thead>\n",
       "  <tbody>\n",
       "    <tr>\n",
       "      <th>MW711287.1</th>\n",
       "      <td>MW711287.1</td>\n",
       "      <td>15-MAR-2021</td>\n",
       "      <td>SWUN/NMG-D10/2020</td>\n",
       "      <td>BCoV</td>\n",
       "      <td>genomic RNA</td>\n",
       "      <td>2021-03-15</td>\n",
       "      <td>taxon:11128</td>\n",
       "      <td>15-MAR-2021</td>\n",
       "      <td>{'gb': ['MW711287.1'], 'gi': ['2000170558']}</td>\n",
       "      <td>2000170558</td>\n",
       "      <td>...</td>\n",
       "      <td>Asia</td>\n",
       "      <td>China</td>\n",
       "      <td>01-Sep-2020</td>\n",
       "      <td>NaN</td>\n",
       "      <td>NaN</td>\n",
       "      <td>Sequencing Technology :: Sanger dideoxy sequen...</td>\n",
       "      <td>calf feces</td>\n",
       "      <td>NaN</td>\n",
       "      <td>Cheng Tang</td>\n",
       "      <td>NaN</td>\n",
       "    </tr>\n",
       "    <tr>\n",
       "      <th>MN982199.1</th>\n",
       "      <td>MN982199.1</td>\n",
       "      <td>04-NOV-2020</td>\n",
       "      <td>BCOV-China/SWUN/A10/2018</td>\n",
       "      <td>BCoV</td>\n",
       "      <td>genomic RNA</td>\n",
       "      <td>2020-11-04</td>\n",
       "      <td>taxon:11128</td>\n",
       "      <td>04-NOV-2020</td>\n",
       "      <td>{'gb': ['MN982199.1'], 'gi': ['1925661203']}</td>\n",
       "      <td>1925661203</td>\n",
       "      <td>...</td>\n",
       "      <td>Asia</td>\n",
       "      <td>China</td>\n",
       "      <td>01-Nov-2018</td>\n",
       "      <td>calf</td>\n",
       "      <td>NaN</td>\n",
       "      <td>Sequencing Technology :: Sanger dideoxy sequen...</td>\n",
       "      <td>feces</td>\n",
       "      <td>NaN</td>\n",
       "      <td>Cheng.Tang</td>\n",
       "      <td>NaN</td>\n",
       "    </tr>\n",
       "    <tr>\n",
       "      <th>MN982198.1</th>\n",
       "      <td>MN982198.1</td>\n",
       "      <td>04-NOV-2020</td>\n",
       "      <td>BCOV-China/SWUN/A1/2018</td>\n",
       "      <td>BCoV</td>\n",
       "      <td>genomic RNA</td>\n",
       "      <td>2020-11-04</td>\n",
       "      <td>taxon:11128</td>\n",
       "      <td>04-NOV-2020</td>\n",
       "      <td>{'gb': ['MN982198.1'], 'gi': ['1925661099']}</td>\n",
       "      <td>1925661099</td>\n",
       "      <td>...</td>\n",
       "      <td>Asia</td>\n",
       "      <td>China</td>\n",
       "      <td>01-Nov-2018</td>\n",
       "      <td>calf</td>\n",
       "      <td>NaN</td>\n",
       "      <td>Sequencing Technology :: Sanger dideoxy sequen...</td>\n",
       "      <td>feces</td>\n",
       "      <td>NaN</td>\n",
       "      <td>Cheng.Tang</td>\n",
       "      <td>NaN</td>\n",
       "    </tr>\n",
       "    <tr>\n",
       "      <th>NC_003045.1</th>\n",
       "      <td>NC_003045.1</td>\n",
       "      <td>02-AUG-2001</td>\n",
       "      <td>BCoV-ENT</td>\n",
       "      <td>BCoV</td>\n",
       "      <td>genomic RNA</td>\n",
       "      <td>2020-09-17</td>\n",
       "      <td>taxon:11128</td>\n",
       "      <td>17-SEP-2020</td>\n",
       "      <td>{'ref': ['NC_003045.1'], 'gi': ['15081544']}</td>\n",
       "      <td>15081544</td>\n",
       "      <td>...</td>\n",
       "      <td>No information</td>\n",
       "      <td>NaN</td>\n",
       "      <td>NaN</td>\n",
       "      <td>NaN</td>\n",
       "      <td>NaN</td>\n",
       "      <td>None</td>\n",
       "      <td>NaN</td>\n",
       "      <td>NaN</td>\n",
       "      <td>NaN</td>\n",
       "      <td>NaN</td>\n",
       "    </tr>\n",
       "    <tr>\n",
       "      <th>LC494178.1</th>\n",
       "      <td>LC494178.1</td>\n",
       "      <td>08-FEB-2020</td>\n",
       "      <td>TCG-19</td>\n",
       "      <td>BCoV</td>\n",
       "      <td>genomic RNA</td>\n",
       "      <td>2020-02-08</td>\n",
       "      <td>taxon:11128</td>\n",
       "      <td>08-FEB-2020</td>\n",
       "      <td>{'dbj': ['LC494178.1'], 'gi': ['1806649953']}</td>\n",
       "      <td>1806649953</td>\n",
       "      <td>...</td>\n",
       "      <td>Asia</td>\n",
       "      <td>Japan</td>\n",
       "      <td>2016-12</td>\n",
       "      <td>NaN</td>\n",
       "      <td>NaN</td>\n",
       "      <td>None</td>\n",
       "      <td>NaN</td>\n",
       "      <td>NaN</td>\n",
       "      <td>NaN</td>\n",
       "      <td>NaN</td>\n",
       "    </tr>\n",
       "    <tr>\n",
       "      <th>...</th>\n",
       "      <td>...</td>\n",
       "      <td>...</td>\n",
       "      <td>...</td>\n",
       "      <td>...</td>\n",
       "      <td>...</td>\n",
       "      <td>...</td>\n",
       "      <td>...</td>\n",
       "      <td>...</td>\n",
       "      <td>...</td>\n",
       "      <td>...</td>\n",
       "      <td>...</td>\n",
       "      <td>...</td>\n",
       "      <td>...</td>\n",
       "      <td>...</td>\n",
       "      <td>...</td>\n",
       "      <td>...</td>\n",
       "      <td>...</td>\n",
       "      <td>...</td>\n",
       "      <td>...</td>\n",
       "      <td>...</td>\n",
       "      <td>...</td>\n",
       "    </tr>\n",
       "    <tr>\n",
       "      <th>FJ938064.1</th>\n",
       "      <td>FJ938064.1</td>\n",
       "      <td>11-JUL-2009</td>\n",
       "      <td>E-AH187-TC</td>\n",
       "      <td>BCoV</td>\n",
       "      <td>genomic RNA</td>\n",
       "      <td>2009-07-11</td>\n",
       "      <td>taxon:454963</td>\n",
       "      <td>11-JUL-2009</td>\n",
       "      <td>{'gnl': ['gcv', 'TCVSP-SAIF-00029'], 'gb': ['F...</td>\n",
       "      <td>251748088</td>\n",
       "      <td>...</td>\n",
       "      <td>North America</td>\n",
       "      <td>USA</td>\n",
       "      <td>01-Jan-2000</td>\n",
       "      <td>bovine</td>\n",
       "      <td>Ohio</td>\n",
       "      <td>None</td>\n",
       "      <td>NaN</td>\n",
       "      <td>NaN</td>\n",
       "      <td>NaN</td>\n",
       "      <td>NaN</td>\n",
       "    </tr>\n",
       "    <tr>\n",
       "      <th>FJ938063.1</th>\n",
       "      <td>FJ938063.1</td>\n",
       "      <td>11-JUL-2009</td>\n",
       "      <td>E-DB2-TC</td>\n",
       "      <td>BCoV</td>\n",
       "      <td>genomic RNA</td>\n",
       "      <td>2009-07-11</td>\n",
       "      <td>taxon:422216</td>\n",
       "      <td>11-JUL-2009</td>\n",
       "      <td>{'gnl': ['gcv', 'TCVSP-SAIF-00007'], 'gb': ['F...</td>\n",
       "      <td>251748075</td>\n",
       "      <td>...</td>\n",
       "      <td>North America</td>\n",
       "      <td>USA</td>\n",
       "      <td>30-Nov-1996</td>\n",
       "      <td>bovine</td>\n",
       "      <td>Ohio</td>\n",
       "      <td>None</td>\n",
       "      <td>NaN</td>\n",
       "      <td>NaN</td>\n",
       "      <td>NaN</td>\n",
       "      <td>NaN</td>\n",
       "    </tr>\n",
       "    <tr>\n",
       "      <th>U00735.2</th>\n",
       "      <td>U00735.2</td>\n",
       "      <td>02-SEP-1993</td>\n",
       "      <td>Mebus</td>\n",
       "      <td>BCoV</td>\n",
       "      <td>genomic RNA</td>\n",
       "      <td>2003-04-23</td>\n",
       "      <td>taxon:11128</td>\n",
       "      <td>23-APR-2003</td>\n",
       "      <td>{'gb': ['U00735.2', 'BCU00735'], 'gi': ['30061...</td>\n",
       "      <td>30061510</td>\n",
       "      <td>...</td>\n",
       "      <td>No information</td>\n",
       "      <td>NaN</td>\n",
       "      <td>NaN</td>\n",
       "      <td>NaN</td>\n",
       "      <td>NaN</td>\n",
       "      <td>None</td>\n",
       "      <td>NaN</td>\n",
       "      <td>NaN</td>\n",
       "      <td>NaN</td>\n",
       "      <td>NaN</td>\n",
       "    </tr>\n",
       "    <tr>\n",
       "      <th>AB354579.1</th>\n",
       "      <td>AB354579.1</td>\n",
       "      <td>11-AUG-2007</td>\n",
       "      <td>Kakegawa</td>\n",
       "      <td>BCoV</td>\n",
       "      <td>genomic RNA</td>\n",
       "      <td>2007-08-11</td>\n",
       "      <td>taxon:11128</td>\n",
       "      <td>11-AUG-2007</td>\n",
       "      <td>{'dbj': ['AB354579.1'], 'gi': ['155369167']}</td>\n",
       "      <td>155369167</td>\n",
       "      <td>...</td>\n",
       "      <td>Asia</td>\n",
       "      <td>Japan</td>\n",
       "      <td>NaN</td>\n",
       "      <td>NaN</td>\n",
       "      <td>NaN</td>\n",
       "      <td>None</td>\n",
       "      <td>NaN</td>\n",
       "      <td>NaN</td>\n",
       "      <td>NaN</td>\n",
       "      <td>NaN</td>\n",
       "    </tr>\n",
       "    <tr>\n",
       "      <th>DQ915164.2</th>\n",
       "      <td>DQ915164.2</td>\n",
       "      <td>30-SEP-2006</td>\n",
       "      <td>Bovine coronavirus isolate Alpaca, complete ge...</td>\n",
       "      <td>BCoV</td>\n",
       "      <td>genomic RNA</td>\n",
       "      <td>2007-06-19</td>\n",
       "      <td>taxon:404135</td>\n",
       "      <td>19-JUN-2007</td>\n",
       "      <td>{'gb': ['DQ915164.2'], 'gi': ['124294673']}</td>\n",
       "      <td>124294673</td>\n",
       "      <td>...</td>\n",
       "      <td>North America</td>\n",
       "      <td>USA</td>\n",
       "      <td>NaN</td>\n",
       "      <td>alpaca</td>\n",
       "      <td>NaN</td>\n",
       "      <td>None</td>\n",
       "      <td>NaN</td>\n",
       "      <td>NaN</td>\n",
       "      <td>NaN</td>\n",
       "      <td>Bovine</td>\n",
       "    </tr>\n",
       "  </tbody>\n",
       "</table>\n",
       "<p>99 rows × 21 columns</p>\n",
       "</div>"
      ],
      "text/plain": [
       "               accession      created  \\\n",
       "MW711287.1    MW711287.1  15-MAR-2021   \n",
       "MN982199.1    MN982199.1  04-NOV-2020   \n",
       "MN982198.1    MN982198.1  04-NOV-2020   \n",
       "NC_003045.1  NC_003045.1  02-AUG-2001   \n",
       "LC494178.1    LC494178.1  08-FEB-2020   \n",
       "...                  ...          ...   \n",
       "FJ938064.1    FJ938064.1  11-JUL-2009   \n",
       "FJ938063.1    FJ938063.1  11-JUL-2009   \n",
       "U00735.2        U00735.2  02-SEP-1993   \n",
       "AB354579.1    AB354579.1  11-AUG-2007   \n",
       "DQ915164.2    DQ915164.2  30-SEP-2006   \n",
       "\n",
       "                                                        strain organism  \\\n",
       "MW711287.1                                   SWUN/NMG-D10/2020     BCoV   \n",
       "MN982199.1                            BCOV-China/SWUN/A10/2018     BCoV   \n",
       "MN982198.1                             BCOV-China/SWUN/A1/2018     BCoV   \n",
       "NC_003045.1                                           BCoV-ENT     BCoV   \n",
       "LC494178.1                                              TCG-19     BCoV   \n",
       "...                                                        ...      ...   \n",
       "FJ938064.1                                          E-AH187-TC     BCoV   \n",
       "FJ938063.1                                            E-DB2-TC     BCoV   \n",
       "U00735.2                                                 Mebus     BCoV   \n",
       "AB354579.1                                            Kakegawa     BCoV   \n",
       "DQ915164.2   Bovine coronavirus isolate Alpaca, complete ge...     BCoV   \n",
       "\n",
       "                mol_type        date       db_xref      updated  \\\n",
       "MW711287.1   genomic RNA  2021-03-15   taxon:11128  15-MAR-2021   \n",
       "MN982199.1   genomic RNA  2020-11-04   taxon:11128  04-NOV-2020   \n",
       "MN982198.1   genomic RNA  2020-11-04   taxon:11128  04-NOV-2020   \n",
       "NC_003045.1  genomic RNA  2020-09-17   taxon:11128  17-SEP-2020   \n",
       "LC494178.1   genomic RNA  2020-02-08   taxon:11128  08-FEB-2020   \n",
       "...                  ...         ...           ...          ...   \n",
       "FJ938064.1   genomic RNA  2009-07-11  taxon:454963  11-JUL-2009   \n",
       "FJ938063.1   genomic RNA  2009-07-11  taxon:422216  11-JUL-2009   \n",
       "U00735.2     genomic RNA  2003-04-23   taxon:11128  23-APR-2003   \n",
       "AB354579.1   genomic RNA  2007-08-11   taxon:11128  11-AUG-2007   \n",
       "DQ915164.2   genomic RNA  2007-06-19  taxon:404135  19-JUN-2007   \n",
       "\n",
       "                                                  other_seqids          gi  \\\n",
       "MW711287.1        {'gb': ['MW711287.1'], 'gi': ['2000170558']}  2000170558   \n",
       "MN982199.1        {'gb': ['MN982199.1'], 'gi': ['1925661203']}  1925661203   \n",
       "MN982198.1        {'gb': ['MN982198.1'], 'gi': ['1925661099']}  1925661099   \n",
       "NC_003045.1       {'ref': ['NC_003045.1'], 'gi': ['15081544']}    15081544   \n",
       "LC494178.1       {'dbj': ['LC494178.1'], 'gi': ['1806649953']}  1806649953   \n",
       "...                                                        ...         ...   \n",
       "FJ938064.1   {'gnl': ['gcv', 'TCVSP-SAIF-00029'], 'gb': ['F...   251748088   \n",
       "FJ938063.1   {'gnl': ['gcv', 'TCVSP-SAIF-00007'], 'gb': ['F...   251748075   \n",
       "U00735.2     {'gb': ['U00735.2', 'BCU00735'], 'gi': ['30061...    30061510   \n",
       "AB354579.1        {'dbj': ['AB354579.1'], 'gi': ['155369167']}   155369167   \n",
       "DQ915164.2         {'gb': ['DQ915164.2'], 'gi': ['124294673']}   124294673   \n",
       "\n",
       "             ...          region country collection_date    host division  \\\n",
       "MW711287.1   ...            Asia   China     01-Sep-2020     NaN      NaN   \n",
       "MN982199.1   ...            Asia   China     01-Nov-2018    calf      NaN   \n",
       "MN982198.1   ...            Asia   China     01-Nov-2018    calf      NaN   \n",
       "NC_003045.1  ...  No information     NaN             NaN     NaN      NaN   \n",
       "LC494178.1   ...            Asia   Japan         2016-12     NaN      NaN   \n",
       "...          ...             ...     ...             ...     ...      ...   \n",
       "FJ938064.1   ...   North America     USA     01-Jan-2000  bovine     Ohio   \n",
       "FJ938063.1   ...   North America     USA     30-Nov-1996  bovine     Ohio   \n",
       "U00735.2     ...  No information     NaN             NaN     NaN      NaN   \n",
       "AB354579.1   ...            Asia   Japan             NaN     NaN      NaN   \n",
       "DQ915164.2   ...   North America     USA             NaN  alpaca      NaN   \n",
       "\n",
       "                                                       comment  \\\n",
       "MW711287.1   Sequencing Technology :: Sanger dideoxy sequen...   \n",
       "MN982199.1   Sequencing Technology :: Sanger dideoxy sequen...   \n",
       "MN982198.1   Sequencing Technology :: Sanger dideoxy sequen...   \n",
       "NC_003045.1                                               None   \n",
       "LC494178.1                                                None   \n",
       "...                                                        ...   \n",
       "FJ938064.1                                                None   \n",
       "FJ938063.1                                                None   \n",
       "U00735.2                                                  None   \n",
       "AB354579.1                                                None   \n",
       "DQ915164.2                                                None   \n",
       "\n",
       "            isolation_source note collected_by serotype  \n",
       "MW711287.1        calf feces  NaN   Cheng Tang      NaN  \n",
       "MN982199.1             feces  NaN   Cheng.Tang      NaN  \n",
       "MN982198.1             feces  NaN   Cheng.Tang      NaN  \n",
       "NC_003045.1              NaN  NaN          NaN      NaN  \n",
       "LC494178.1               NaN  NaN          NaN      NaN  \n",
       "...                      ...  ...          ...      ...  \n",
       "FJ938064.1               NaN  NaN          NaN      NaN  \n",
       "FJ938063.1               NaN  NaN          NaN      NaN  \n",
       "U00735.2                 NaN  NaN          NaN      NaN  \n",
       "AB354579.1               NaN  NaN          NaN      NaN  \n",
       "DQ915164.2               NaN  NaN          NaN   Bovine  \n",
       "\n",
       "[99 rows x 21 columns]"
      ]
     },
     "execution_count": 409,
     "metadata": {},
     "output_type": "execute_result"
    }
   ],
   "source": [
    "df"
   ]
  },
  {
   "cell_type": "code",
   "execution_count": 410,
   "metadata": {},
   "outputs": [],
   "source": [
    "df_meta.to_csv('metadata.csv', index=False)"
   ]
  }
 ],
 "metadata": {
  "kernelspec": {
   "display_name": "Python 3",
   "language": "python",
   "name": "python3"
  },
  "language_info": {
   "codemirror_mode": {
    "name": "ipython",
    "version": 3
   },
   "file_extension": ".py",
   "mimetype": "text/x-python",
   "name": "python",
   "nbconvert_exporter": "python",
   "pygments_lexer": "ipython3",
   "version": "3.8.3"
  }
 },
 "nbformat": 4,
 "nbformat_minor": 4
}
